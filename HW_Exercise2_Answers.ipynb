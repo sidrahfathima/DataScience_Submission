{
 "cells": [
  {
   "cell_type": "markdown",
   "metadata": {},
   "source": [
    "1. Write a Python program to count the number of even and odd numbers from a series of numbers."
   ]
  },
  {
   "cell_type": "code",
   "execution_count": 4,
   "metadata": {},
   "outputs": [
    {
     "name": "stdout",
     "output_type": "stream",
     "text": [
      "Enter the range : \n",
      "9\n",
      "Number of even numbers : 5\n",
      "Number of odd numbers : 4\n"
     ]
    }
   ],
   "source": [
    "print(\"Enter the range : \")\n",
    "a=int(input())\n",
    "even=0\n",
    "odd=0\n",
    "for i in range(0,a):\n",
    "    if i%2==0:\n",
    "        even+=1\n",
    "    else:\n",
    "        odd+=1\n",
    "print(\"Number of even numbers : {0}\".format(even))\n",
    "print(\"Number of odd numbers : {0}\".format(odd))"
   ]
  },
  {
   "cell_type": "markdown",
   "metadata": {},
   "source": [
    "2. Write a Python program to find numbers between 100 and 400 (both included) where each digit of a number is an even number. The numbers obtained should be printed in a comma-separated sequence."
   ]
  },
  {
   "cell_type": "code",
   "execution_count": 24,
   "metadata": {},
   "outputs": [
    {
     "name": "stdout",
     "output_type": "stream",
     "text": [
      "[100, 102, 104, 106, 108, 110, 112, 114, 116, 118, 120, 122, 124, 126, 128, 130, 132, 134, 136, 138, 140, 142, 144, 146, 148, 150, 152, 154, 156, 158, 160, 162, 164, 166, 168, 170, 172, 174, 176, 178, 180, 182, 184, 186, 188, 190, 192, 194, 196, 198, 200, 202, 204, 206, 208, 210, 212, 214, 216, 218, 220, 222, 224, 226, 228, 230, 232, 234, 236, 238, 240, 242, 244, 246, 248, 250, 252, 254, 256, 258, 260, 262, 264, 266, 268, 270, 272, 274, 276, 278, 280, 282, 284, 286, 288, 290, 292, 294, 296, 298, 300, 302, 304, 306, 308, 310, 312, 314, 316, 318, 320, 322, 324, 326, 328, 330, 332, 334, 336, 338, 340, 342, 344, 346, 348, 350, 352, 354, 356, 358, 360, 362, 364, 366, 368, 370, 372, 374, 376, 378, 380, 382, 384, 386, 388, 390, 392, 394, 396, 398, 400]\n"
     ]
    }
   ],
   "source": [
    "a=100\n",
    "b=400+1\n",
    "num=[]\n",
    "for i in range(a,b):\n",
    "    if i%2==0:\n",
    "        num.append(i)\n",
    "print(num)"
   ]
  },
  {
   "cell_type": "markdown",
   "metadata": {},
   "source": [
    "3. Write a Python program to calculate a dog's age in dog's years.\n",
    "Note: For the first two years, a dog year is equal to 10.5 human years. After that, each dog year equals 4 human years."
   ]
  },
  {
   "cell_type": "code",
   "execution_count": 27,
   "metadata": {},
   "outputs": [
    {
     "name": "stdout",
     "output_type": "stream",
     "text": [
      "Enter the age of the dog in human years: 9\n",
      "Age of the dog in dogs year is 122.5\n"
     ]
    }
   ],
   "source": [
    "def agebelow2(a):\n",
    "    return a*10.5\n",
    "\n",
    "def ageabove2(a):\n",
    "    return ((a*10.5)+((a-2)*4))\n",
    "\n",
    "a=int(input(\"Enter the age of the dog in human years: \"))\n",
    "if a<=2:\n",
    "    age=agebelow2(a)\n",
    "    print(\"Age of the dog in dogs year is {0}\".format(age))\n",
    "else:\n",
    "    age=ageabove2(a)\n",
    "    print(\"Age of the dog in dogs year is {0}\".format(age))\n",
    "    \n",
    "    "
   ]
  },
  {
   "cell_type": "code",
   "execution_count": 53,
   "metadata": {},
   "outputs": [
    {
     "name": "stdout",
     "output_type": "stream",
     "text": [
      "Enter the number : 11\n",
      " 11 is a prime number\n"
     ]
    }
   ],
   "source": [
    "a=int(input(\"Enter the number : \"))\n",
    "if a==1 or a==2: \n",
    "    print(\" {0} itself is a prime number\".format(a))\n",
    "else :\n",
    "    for i in range(2,a):\n",
    "        if a%i==0:\n",
    "            print(\" {0} is a not prime number\".format(a))\n",
    "            break\n",
    "        else:\n",
    "            print(\" {0} is a prime number\".format(a))\n",
    "            break\n",
    "\n",
    "    "
   ]
  },
  {
   "cell_type": "markdown",
   "metadata": {},
   "source": [
    "5. Write a Python function that accepts a string and calculate the number of upper case letters and lower case letters"
   ]
  },
  {
   "cell_type": "code",
   "execution_count": 80,
   "metadata": {},
   "outputs": [
    {
     "name": "stdout",
     "output_type": "stream",
     "text": [
      "enter a word Sidrah Fathima\n",
      "Lower 11 and upper 2\n"
     ]
    }
   ],
   "source": [
    "a=str(input(\"enter a word \"))\n",
    "up=0\n",
    "low=0\n",
    "for i in a:\n",
    "    if i==' ':\n",
    "        pass\n",
    "    if i.islower()==True:\n",
    "        low+=1\n",
    "    elif i.isupper()==True:\n",
    "        up+=1\n",
    "print(\"Lower {0} and upper {1}\".format(low,up))\n",
    "    \n"
   ]
  },
  {
   "cell_type": "markdown",
   "metadata": {},
   "source": [
    "6. Write a Python program to reverse a string."
   ]
  },
  {
   "cell_type": "code",
   "execution_count": 89,
   "metadata": {},
   "outputs": [
    {
     "name": "stdout",
     "output_type": "stream",
     "text": [
      "the original string is 1234abcd\n",
      "the reversed string is dcba4321\n"
     ]
    }
   ],
   "source": [
    "a='1234abcd'\n",
    "print(\"the original string is {0}\".format(a))\n",
    "print(\"the reversed string is {0}\".format(a[::-1]))"
   ]
  },
  {
   "cell_type": "markdown",
   "metadata": {},
   "source": [
    "7. Write a Python program to find the greatest common divisor (gcd) of two integers"
   ]
  },
  {
   "cell_type": "code",
   "execution_count": 91,
   "metadata": {},
   "outputs": [
    {
     "name": "stdout",
     "output_type": "stream",
     "text": [
      "The GCD of 10 and 12 are : 2\n"
     ]
    }
   ],
   "source": [
    "x=10\n",
    "y=12\n",
    "if(x>y):\n",
    "    small=y\n",
    "else:\n",
    "    small=x\n",
    "for i in range(2,small+1):\n",
    "    if x%i==0 and y%i==0:\n",
    "        gcd=i\n",
    "print(\"The GCD of 10 and 12 are :\",gcd)"
   ]
  }
 ],
 "metadata": {
  "kernelspec": {
   "display_name": "Python 3",
   "language": "python",
   "name": "python3"
  },
  "language_info": {
   "codemirror_mode": {
    "name": "ipython",
    "version": 3
   },
   "file_extension": ".py",
   "mimetype": "text/x-python",
   "name": "python",
   "nbconvert_exporter": "python",
   "pygments_lexer": "ipython3",
   "version": "3.8.5"
  }
 },
 "nbformat": 4,
 "nbformat_minor": 4
}
