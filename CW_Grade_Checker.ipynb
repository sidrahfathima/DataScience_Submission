{
 "cells": [
  {
   "cell_type": "code",
   "execution_count": 5,
   "metadata": {},
   "outputs": [
    {
     "name": "stdout",
     "output_type": "stream",
     "text": [
      "Enter the mark for Sidrah 60\n",
      "Grade of Sidrah  is C\n"
     ]
    }
   ],
   "source": [
    "Student='Sidrah'\n",
    "X=int(input(\"Enter the mark for {0} \".format(Student)))\n",
    "if X<=100:\n",
    "    \n",
    "    if  X>=90 and X<=100:\n",
    "        print(\"Grade of \"+Student+\" is A\")\n",
    "    elif X>=70 and X<90:\n",
    "        print(\"Grade of \"+Student+\" is B\")\n",
    "    else:\n",
    "        print(\"Grade of \"+Student+\" \"+\" is C\")\n",
    "else:\n",
    "    print(\"enter correct marks\")"
   ]
  },
  {
   "cell_type": "code",
   "execution_count": 3,
   "metadata": {},
   "outputs": [
    {
     "name": "stdout",
     "output_type": "stream",
     "text": [
      "Enter the student name sidrah\n",
      "Enter the mark j\n",
      "enter numerical value\n"
     ]
    }
   ],
   "source": [
    "Student=str(input(\"Enter the student name :\"))\n",
    "X=input(\"Enter the mark :\")\n",
    "if type(X)==int:\n",
    "    if X<=100:\n",
    "        if  X>=90 and X<=100:\n",
    "            print(\"Grade of \"+Student+\" is A\")\n",
    "        elif X>=70 and X<90:\n",
    "            print(\"Grade of \"+Student+\" is B\")\n",
    "        else:\n",
    "            print(\"Grade of \"+Student+\" is C\")\n",
    "    else:\n",
    "        print(\"enter correct marks\")\n",
    "else:\n",
    "    print(\"enter numerical value\")"
   ]
  },
  {
   "cell_type": "code",
   "execution_count": 1,
   "metadata": {},
   "outputs": [
    {
     "name": "stdout",
     "output_type": "stream",
     "text": [
      "Enter students name :sid\n",
      "Enter the number of subjects for sid : 6\n",
      "Enter marks : 50\n",
      "Enter marks : 60\n",
      "Enter marks : 70\n",
      "Enter marks : 70\n",
      "Enter marks : 80\n",
      "Enter marks : 90\n",
      "Marks of sid is : \n",
      "[50, 60, 70, 70, 80, 90]\n",
      "Average mark of sid is 70.0\n",
      "GRADE C\n"
     ]
    }
   ],
   "source": [
    "student=str(input(\"Enter students name :\"))\n",
    "j=int(input(\"Enter the number of subjects for {0} : \".format(student)))\n",
    "marks=[]\n",
    "for i in range(0,j):\n",
    "    X=(int(input(\"Enter marks : \")))\n",
    "    marks.append(X)\n",
    "print(\"Marks of {0} is : \".format(student))\n",
    "print(marks)\n",
    "lst_sum=sum(marks)\n",
    "lst_avg=lst_sum/j\n",
    "print(\"Average mark of {0} is {1}\".format(student,lst_avg))\n",
    "if lst_avg >90 and lst_avg<=100:\n",
    "    print(\"GRADE A\")\n",
    "elif lst_avg<70 and lst_avg>=90:\n",
    "    print(\"GRADE B\")\n",
    "else:\n",
    "    print(\"GRADE C\")\n",
    "            "
   ]
  }
 ],
 "metadata": {
  "kernelspec": {
   "display_name": "Python 3",
   "language": "python",
   "name": "python3"
  },
  "language_info": {
   "codemirror_mode": {
    "name": "ipython",
    "version": 3
   },
   "file_extension": ".py",
   "mimetype": "text/x-python",
   "name": "python",
   "nbconvert_exporter": "python",
   "pygments_lexer": "ipython3",
   "version": "3.8.5"
  }
 },
 "nbformat": 4,
 "nbformat_minor": 4
}
