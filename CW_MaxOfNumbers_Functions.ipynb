{
 "cells": [
  {
   "cell_type": "code",
   "execution_count": 9,
   "metadata": {},
   "outputs": [
    {
     "name": "stdout",
     "output_type": "stream",
     "text": [
      "[1505, 1540, 1575, 1610, 1645, 1680, 1715, 1750, 1785, 1820, 1855, 1890, 1925, 1960, 1995, 2030, 2065, 2100, 2135, 2170, 2205, 2240, 2275, 2310, 2345, 2380, 2415, 2450, 2485, 2520, 2555, 2590, 2625, 2660, 2695]\n"
     ]
    }
   ],
   "source": [
    "n=[]\n",
    "for x in range(1500,2701):\n",
    "    if x%7==0 and x%5==0:\n",
    "        n.append(x)\n",
    "print(n)"
   ]
  },
  {
   "cell_type": "code",
   "execution_count": 10,
   "metadata": {},
   "outputs": [
    {
     "name": "stdout",
     "output_type": "stream",
     "text": [
      "The greatest of thre  numbers is 10\n"
     ]
    }
   ],
   "source": [
    "def max_num(a,b,c):\n",
    "    if a>b and a>c:\n",
    "        print(\"The greatest of thre  numbers is {0}\".format(a))\n",
    "    elif b>a and b>c:\n",
    "        print(\"The greatest of thre  numbers is {0}\".format(a))\n",
    "    else:\n",
    "        print(\"The greatest of thre  numbers is {0}\".format(a))\n",
    "        \n",
    "max_1=max_num(10,45,67)\n"
   ]
  }
 ],
 "metadata": {
  "kernelspec": {
   "display_name": "Python 3",
   "language": "python",
   "name": "python3"
  },
  "language_info": {
   "codemirror_mode": {
    "name": "ipython",
    "version": 3
   },
   "file_extension": ".py",
   "mimetype": "text/x-python",
   "name": "python",
   "nbconvert_exporter": "python",
   "pygments_lexer": "ipython3",
   "version": "3.8.5"
  }
 },
 "nbformat": 4,
 "nbformat_minor": 4
}
