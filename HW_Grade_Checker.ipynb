{
 "cells": [
  {
   "cell_type": "code",
   "execution_count": 5,
   "metadata": {},
   "outputs": [
    {
     "name": "stdout",
     "output_type": "stream",
     "text": [
      "Enter the mark for Sidrah 60\n",
      "Grade of Sidrah  is C\n"
     ]
    }
   ],
   "source": [
    "Student='Sidrah'\n",
    "X=int(input(\"Enter the mark for {0} \".format(Student)))\n",
    "if X<=100:\n",
    "    \n",
    "    if  X>=90 and X<=100:\n",
    "        print(\"Grade of \"+Student+\" is A\")\n",
    "    elif X>=70 and X<90:\n",
    "        print(\"Grade of \"+Student+\" is B\")\n",
    "    else:\n",
    "        print(\"Grade of \"+Student+\" \"+\" is C\")\n",
    "else:\n",
    "    print(\"enter correct marks\")"
   ]
  },
  {
   "cell_type": "code",
   "execution_count": 3,
   "metadata": {},
   "outputs": [
    {
     "name": "stdout",
     "output_type": "stream",
     "text": [
      "Enter the student name sidrah\n",
      "Enter the mark j\n",
      "enter numerical value\n"
     ]
    }
   ],
   "source": [
    "Student=str(input(\"Enter the student name :\"))\n",
    "X=input(\"Enter the mark :\")\n",
    "if type(X)==int:\n",
    "    if X<=100:\n",
    "        if  X>=90 and X<=100:\n",
    "            print(\"Grade of \"+Student+\" is A\")\n",
    "        elif X>=70 and X<90:\n",
    "            print(\"Grade of \"+Student+\" is B\")\n",
    "        else:\n",
    "            print(\"Grade of \"+Student+\" is C\")\n",
    "    else:\n",
    "        print(\"enter correct marks\")\n",
    "else:\n",
    "    print(\"enter numerical value\")"
   ]
  },
  {
   "cell_type": "code",
   "execution_count": null,
   "metadata": {},
   "outputs": [],
   "source": []
  }
 ],
 "metadata": {
  "kernelspec": {
   "display_name": "Python 3",
   "language": "python",
   "name": "python3"
  },
  "language_info": {
   "codemirror_mode": {
    "name": "ipython",
    "version": 3
   },
   "file_extension": ".py",
   "mimetype": "text/x-python",
   "name": "python",
   "nbconvert_exporter": "python",
   "pygments_lexer": "ipython3",
   "version": "3.8.5"
  }
 },
 "nbformat": 4,
 "nbformat_minor": 4
}
