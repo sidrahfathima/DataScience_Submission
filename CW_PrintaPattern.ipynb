{
 "cells": [
  {
   "cell_type": "code",
   "execution_count": 14,
   "metadata": {},
   "outputs": [],
   "source": [
    "def num(value):\n",
    "    y=4\n",
    "    for i in range(value+1):\n",
    "        print('*'*i)\n",
    "    for i in range(value+1):\n",
    "        \n",
    "        print('*'*y)\n",
    "        y-=1\n",
    "num(5)\n"
   ]
  },
  {
   "cell_type": "code",
   "execution_count": 12,
   "metadata": {},
   "outputs": [],
   "source": [
    "def pattern(num):\n",
    "    lst = []\n",
    "    i='*'\n",
    "    for i in range (1, num):\n",
    "        lst.append('*')\n",
    "        print(lst)\n",
    "    for i in range (1, num):\n",
    "        lst.remove('*')\n",
    "        print(lst)\n",
    "pattern(9)\n"
   ]
  },
  {
   "cell_type": "code",
   "execution_count": 15,
   "metadata": {},
   "outputs": [],
   "source": [
    "inp = int(input())\n",
    "for i in range(0,inp):\n",
    "    print(\"*\"*i)\n",
    "for x in range(0,inp):\n",
    "    print(\"*\"*x)\n",
    "    x =x -1"
   ]
  },
  {
   "cell_type": "code",
   "execution_count": null,
   "metadata": {},
   "outputs": [],
   "source": [
    "lst=[]\n",
    "for i in range(1,6):\n",
    "    print(i*'*')\n",
    "    i=i-1\n",
    "    lst.append(i)\n",
    "lst1=lst[::-1]\n",
    "for i in lst1:\n",
    "    print(i*'*')\n"
   ]
  },
  {
   "cell_type": "code",
   "execution_count": null,
   "metadata": {},
   "outputs": [],
   "source": [
    "star=[]\n",
    "for i in range (1,6):\n",
    "   star.append(i*\"*\")\n",
    "for i in range (0,5):\n",
    "    print(star[i])\n",
    "for i in range (1,6):\n",
    "    print(star[-i])"
   ]
  },
  {
   "cell_type": "code",
   "execution_count": null,
   "metadata": {},
   "outputs": [],
   "source": [
    "def func1(n): \n",
    "      \n",
    "    for i in range(0, n): \n",
    "       \n",
    "        for j in range(0, i+1): \n",
    "                    \n",
    "            print(\"* \",end=\"\")                  \n",
    "                    \n",
    "        print(\"\\r\") \n",
    "        \n",
    "    for i in range(n,0, -1 ): \n",
    "       \n",
    "        for j in range(0,i): \n",
    "                    \n",
    "            print(\"* \",end=\"\")                  \n",
    "                     \n",
    "        print(\"\\r\") \n",
    "     \n",
    "\n",
    "\n",
    "n = 5\n",
    "func1(n)"
   ]
  },
  {
   "cell_type": "code",
   "execution_count": null,
   "metadata": {},
   "outputs": [],
   "source": [
    "number=int(input('Please neter the number'))\n",
    "for i in range (1,number+1):\n",
    "    print('*'*i)\n",
    "for j in range(number-1,0,-1):\n",
    "    print('*'*j)\n"
   ]
  }
 ],
 "metadata": {
  "kernelspec": {
   "display_name": "Python 3",
   "language": "python",
   "name": "python3"
  },
  "language_info": {
   "codemirror_mode": {
    "name": "ipython",
    "version": 3
   },
   "file_extension": ".py",
   "mimetype": "text/x-python",
   "name": "python",
   "nbconvert_exporter": "python",
   "pygments_lexer": "ipython3",
   "version": "3.8.5"
  }
 },
 "nbformat": 4,
 "nbformat_minor": 4
}
